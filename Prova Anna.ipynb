{
 "cells": [
  {
   "cell_type": "markdown",
   "metadata": {},
   "source": [
    "# Notebook da prova da Anna\n",
    "Aluno: Chandler Klüser Chantre"
   ]
  },
  {
   "cell_type": "code",
   "execution_count": 1,
   "metadata": {},
   "outputs": [],
   "source": [
    "import libprova as lb\n",
    "import numpy as np"
   ]
  },
  {
   "cell_type": "code",
   "execution_count": 42,
   "metadata": {},
   "outputs": [],
   "source": [
    "def f(x,threshold):\n",
    "    if x>threshold:\n",
    "        return 1\n",
    "    else:\n",
    "        return 0"
   ]
  },
  {
   "cell_type": "code",
   "execution_count": 25,
   "metadata": {},
   "outputs": [
    {
     "data": {
      "text/plain": [
       "(1, 1, 1, 1, 0)"
      ]
     },
     "execution_count": 25,
     "metadata": {},
     "output_type": "execute_result"
    }
   ],
   "source": [
    "w0 = 1\n",
    "w1 = -1\n",
    "w2 = -1\n",
    "# 1 - Ball\n",
    "# 2 - Cross\n",
    "a = np.array([1,0.1,0.7])\n",
    "b = np.array([1,0.3,0.6])\n",
    "c = np.array([1,0.4,0.2])\n",
    "d = np.array([1,0.6,0.3])\n",
    "e = np.array([1,0.1,1.0])\n",
    "def res(x):\n",
    "    return f(lb.wsum(np.array([w0,w1,w2]),x))\n",
    "res(a),res(b),res(c),res(d),res(e)"
   ]
  },
  {
   "cell_type": "code",
   "execution_count": 27,
   "metadata": {},
   "outputs": [
    {
     "data": {
      "text/plain": [
       "(0, 0, 0)"
      ]
     },
     "execution_count": 27,
     "metadata": {},
     "output_type": "execute_result"
    }
   ],
   "source": [
    "a = np.array([1,0.3,1.0])\n",
    "b = np.array([1,0.7,0.7])\n",
    "c = np.array([1,0.4,0.9])\n",
    "res(a),res(b),res(c)"
   ]
  },
  {
   "cell_type": "code",
   "execution_count": 31,
   "metadata": {},
   "outputs": [
    {
     "data": {
      "text/plain": [
       "2.449489742783178"
      ]
     },
     "execution_count": 31,
     "metadata": {},
     "output_type": "execute_result"
    }
   ],
   "source": [
    "a = [1,1,0,1,1,0,1,1,0,1,1,0]\n",
    "b = [0,1,0,1,0,1,0,1,0,1,0,1]\n",
    "a1 = np.array(a)\n",
    "b1 = np.array(b)\n",
    "np.linalg.norm(a1-b1)"
   ]
  },
  {
   "cell_type": "code",
   "execution_count": 35,
   "metadata": {},
   "outputs": [
    {
     "data": {
      "text/plain": [
       "0.5"
      ]
     },
     "execution_count": 35,
     "metadata": {},
     "output_type": "execute_result"
    }
   ],
   "source": [
    "def dist(r,q):\n",
    "    return (r-q)/r\n",
    "dist(12,6)"
   ]
  },
  {
   "cell_type": "code",
   "execution_count": 39,
   "metadata": {},
   "outputs": [
    {
     "data": {
      "text/plain": [
       "12.096"
      ]
     },
     "execution_count": 39,
     "metadata": {},
     "output_type": "execute_result"
    }
   ],
   "source": [
    "a = [0,0]\n",
    "last_v = [1,1]\n",
    "gamma = 0.8\n",
    "new_r = 0+gamma*10+0*gamma**2+0*gamma**3+10*gamma**4\n",
    "new_r"
   ]
  },
  {
   "cell_type": "code",
   "execution_count": 41,
   "metadata": {},
   "outputs": [
    {
     "data": {
      "text/plain": [
       "36.288000000000004"
      ]
     },
     "execution_count": 41,
     "metadata": {},
     "output_type": "execute_result"
    }
   ],
   "source": [
    "new_r = new_r +gamma*10+0*gamma**2+0*gamma**3+10*gamma**4\n",
    "new_r"
   ]
  },
  {
   "cell_type": "code",
   "execution_count": 44,
   "metadata": {},
   "outputs": [
    {
     "data": {
      "text/plain": [
       "1"
      ]
     },
     "execution_count": 44,
     "metadata": {},
     "output_type": "execute_result"
    }
   ],
   "source": [
    "w0 = 1\n",
    "w1 = 1\n",
    "w2 = 1\n",
    "w3 = -1\n",
    "w4 = -1\n",
    "w5 = -1\n",
    "# 1 - Ball\n",
    "# 2 - Cross\n",
    "lb.wsum(\n",
    "np.array([1,1,-1]),\n",
    "np.array([1,1,1])\n",
    ")"
   ]
  },
  {
   "cell_type": "code",
   "execution_count": 46,
   "metadata": {},
   "outputs": [
    {
     "data": {
      "text/plain": [
       "9.676800000000002"
      ]
     },
     "execution_count": 46,
     "metadata": {},
     "output_type": "execute_result"
    }
   ],
   "source": [
    "0+10*0.8**2+10*0.8**5"
   ]
  }
 ],
 "metadata": {
  "kernelspec": {
   "display_name": "Python 3",
   "language": "python",
   "name": "python3"
  },
  "language_info": {
   "codemirror_mode": {
    "name": "ipython",
    "version": 3
   },
   "file_extension": ".py",
   "mimetype": "text/x-python",
   "name": "python",
   "nbconvert_exporter": "python",
   "pygments_lexer": "ipython3",
   "version": "3.8.3"
  }
 },
 "nbformat": 4,
 "nbformat_minor": 4
}
